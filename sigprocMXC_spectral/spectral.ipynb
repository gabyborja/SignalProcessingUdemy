{
 "metadata": {
  "language_info": {
   "codemirror_mode": {
    "name": "ipython",
    "version": 3
   },
   "file_extension": ".py",
   "mimetype": "text/x-python",
   "name": "python",
   "nbconvert_exporter": "python",
   "pygments_lexer": "ipython3",
   "version": "3.8.5-final"
  },
  "orig_nbformat": 2,
  "kernelspec": {
   "name": "python3",
   "display_name": "Python 3.8.5 64-bit ('anaconda3': virtualenv)",
   "metadata": {
    "interpreter": {
     "hash": "0e936c82c9a9a6e66225a00f71cdc5c3d4e138d3d1237456bcb6d76ffa49910a"
    }
   }
  }
 },
 "nbformat": 4,
 "nbformat_minor": 2,
 "cells": [
  {
   "cell_type": "code",
   "execution_count": null,
   "metadata": {},
   "outputs": [],
   "source": [
    "import numpy as  np \n",
    "import matplotlib.pyplot as plt\n",
    "import scipy.io as sio\n",
    "import scipy.fftpack\n",
    "import scipy.signal\n",
    "import scipy.io.wavfile\n",
    "import copy"
   ]
  },
  {
   "source": [
    "---\n",
    "VIDEO: Fourier transform for spectral analyses\n",
    "---"
   ],
   "cell_type": "markdown",
   "metadata": {}
  },
  {
   "cell_type": "code",
   "execution_count": null,
   "metadata": {},
   "outputs": [],
   "source": [
    "## Generate a multispectral noisy signal \n",
    "\n",
    "# simulation parameters \n",
    "srate = 1234 # in Hz\n",
    "npnts = srate*2 # 2 seconds\n",
    "time = np.arange(0,npnts)/srate\n",
    "\n",
    "# frequencies to include\n",
    "frex = [ 12, 18, 30 ]\n",
    "\n",
    "signal = np.zeros(len(time))\n",
    "\n",
    "# loop over frequencies to create signal \n",
    "for fi in range(0, len(frex)):\n",
    "    signal = signal + (fi+1)*np.sin(2*np.pi*frex[fi]*time)\n",
    "\n",
    "# add some noise\n",
    "signal = signal + np.random.randn(len(signal))\n",
    "\n",
    "# amplitude spectrum via Fourier transform\n",
    "signalX = scipy.fftpack.fft(signal)\n",
    "signalAmp = 2*np.abs(signalX)/npnts\n",
    "\n",
    "# vector of frequencies in Hz\n",
    "hz = np.linspace(0, srate/2, int(np.floor(npnts/2)+1))"
   ]
  },
  {
   "cell_type": "code",
   "execution_count": null,
   "metadata": {},
   "outputs": [],
   "source": [
    "# plots\n",
    "plt.plot(time, signal, label='Original')\n",
    "plt.plot(time, np.real(scipy.fftpack.ifft(signalX)), 'ro', label='IFFT reconstructed')\n",
    "\n",
    "plt.xlabel('Time (s)')\n",
    "plt.ylabel('Amplitude')\n",
    "plt.title('Time domain')\n",
    "plt.legend()\n",
    "plt.show()\n",
    "\n",
    "plt.stem(hz, signalAmp[0:len(hz)], 'k')\n",
    "plt.xlim([0, np.max(frex)*3])\n",
    "plt.xlabel('Frequency (Hz)')\n",
    "plt.ylabel('Amplitude')\n",
    "plt.title('Frequency domain')\n",
    "plt.show()\n"
   ]
  },
  {
   "cell_type": "code",
   "execution_count": null,
   "metadata": {},
   "outputs": [],
   "source": []
  }
 ]
}