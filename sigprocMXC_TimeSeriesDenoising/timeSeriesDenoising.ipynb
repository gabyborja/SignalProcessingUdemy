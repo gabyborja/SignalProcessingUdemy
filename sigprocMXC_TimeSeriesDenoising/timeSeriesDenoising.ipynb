{
 "metadata": {
  "language_info": {
   "codemirror_mode": {
    "name": "ipython",
    "version": 3
   },
   "file_extension": ".py",
   "mimetype": "text/x-python",
   "name": "python",
   "nbconvert_exporter": "python",
   "pygments_lexer": "ipython3",
   "version": "3.8.5-final"
  },
  "orig_nbformat": 2,
  "kernelspec": {
   "name": "python3",
   "display_name": "Python 3",
   "language": "python"
  }
 },
 "nbformat": 4,
 "nbformat_minor": 2,
 "cells": [
  {
   "cell_type": "code",
   "execution_count": null,
   "metadata": {},
   "outputs": [],
   "source": [
    "import numpy as np\n",
    "import matplotlib.pyplot as plt\n",
    "import scipy.io as sio\n",
    "import scipy.signal\n",
    "from scipy import *\n",
    "import copy"
   ]
  },
  {
   "source": [
    "---\n",
    "# VIDEO: Mean-smooth a time series\n",
    "---"
   ],
   "cell_type": "markdown",
   "metadata": {}
  },
  {
   "cell_type": "code",
   "execution_count": null,
   "metadata": {},
   "outputs": [],
   "source": [
    "srate = 1000\n",
    "time = np.arange(0,3,1/srate)\n",
    "n = len(time)\n",
    "p = 15 # poles for random interpolation\n",
    "\n",
    "# noise level, measured in standard deviations\n",
    "noiseamp = 5\n",
    "\n",
    "# amplitude modulator and noise level\n",
    "ampl = np.interp(np.linspace(0,p,n), np.arange(0,p), np.random.rand(p)*30)\n",
    "noise = noiseamp * np.random.randn(n)\n",
    "signal = ampl + noise\n",
    "\n",
    "plt.plot(time, ampl)\n",
    "plt.show()\n",
    "plt.plot(time, noise)\n",
    "plt.show()\n",
    "plt.plot(time, signal)\n",
    "plt.show()"
   ]
  },
  {
   "cell_type": "code",
   "execution_count": null,
   "metadata": {},
   "outputs": [],
   "source": []
  }
 ]
}