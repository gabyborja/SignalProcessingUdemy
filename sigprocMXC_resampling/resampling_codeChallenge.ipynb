{
 "cells": [
  {
   "cell_type": "code",
   "execution_count": null,
   "metadata": {},
   "outputs": [],
   "source": [
    "import numpy as np\n",
    "import matplotlib.pyplot as plt\n",
    "\n",
    "import scipy \n",
    "import scipy.io as sio\n",
    "from  scipy import signal \n",
    "from scipy.interpolate import griddata"
   ]
  },
  {
   "cell_type": "code",
   "execution_count": null,
   "metadata": {},
   "outputs": [],
   "source": [
    "resample_challenge = sio.loadmat('resample_codeChallenge.mat')\n",
    "resample_challenge\n",
    "\n",
    "origS = np.squeeze(resample_challenge['origS'])\n",
    "origT = np.squeeze(resample_challenge['origT'])\n",
    "signal = np.squeeze(resample_challenge['signal'])\n",
    "time = np.squeeze(resample_challenge['time'])\n",
    "\n",
    "print(origS.shape)\n",
    "print(origT.shape)\n",
    "print(signal.shape)\n",
    "print(time.shape)"
   ]
  },
  {
   "cell_type": "code",
   "execution_count": null,
   "metadata": {},
   "outputs": [],
   "source": [
    "plt.plot(time, signal, 'ks-', label='signal')\n",
    "plt.plot(origT, origS, 'r', label='original')\n",
    "plt.legend()\n",
    "#plt.ylim([0, 30])\n",
    "#plt.xlim([0, 0.1])\n",
    "\n",
    "plt.show()\n",
    "\n",
    "# Need to go from signal to original in red\n",
    "# Get rid of NaNs in signal\n",
    "# Spectral interpolation to address noise burts\n",
    "# Upsample to get to regularly spaced data\n"
   ]
  },
  {
   "cell_type": "code",
   "execution_count": null,
   "metadata": {},
   "outputs": [],
   "source": [
    "plt.plot(np.diff(time))\n",
    "plt.show()\n",
    "\n",
    "plt.plot(np.diff(origT))\n",
    "plt.show()\n"
   ]
  },
  {
   "cell_type": "code",
   "execution_count": null,
   "metadata": {},
   "outputs": [],
   "source": [
    "# Step 1 find NaNs\n",
    "np.isnan(signal)\n",
    "print(sum(np.isnan(signal))) #485\n",
    "print(len(signal)) # 2399\n",
    "print(len(origS)) # 3001\n",
    "\n",
    "foo = len(signal) + sum(np.isnan(signal))\n",
    "print(foo) # 2884\n",
    "\n",
    "# Try replacing NaNs with 0\n",
    "nanIdx = np.isnan(signal)\n",
    "signalClean = signal[~nanIdx]\n",
    "timeClean = time[~nanIdx]\n",
    "plt.plot(timeClean, signalClean, label='nan Removed')\n",
    "plt.legend()\n",
    "plt.show\n",
    "\n"
   ]
  },
  {
   "cell_type": "code",
   "execution_count": null,
   "metadata": {},
   "outputs": [],
   "source": [
    "# Interpolate using original time vector so that it is regularly spaced\n",
    "newsignal = griddata(timeClean, signalClean, origT, method='cubic')\n",
    "plt.plot(origT, newsignal, label='regularly sampled')\n",
    "plt.plot(origT, origS, label='original')\n",
    "plt.legend()\n",
    "plt.show()\n"
   ]
  },
  {
   "cell_type": "code",
   "execution_count": null,
   "metadata": {},
   "outputs": [],
   "source": [
    "# Identify where noise bursts are and spectrally interpolate between those positions"
   ]
  }
 ],
 "metadata": {
  "interpreter": {
   "hash": "5b94c2a6c852fe5ec0455d98e47d2fb0979f82f48615a231143447b972fed4e7"
  },
  "kernelspec": {
   "display_name": "Python 3.8.5 64-bit ('base': conda)",
   "name": "python3"
  },
  "language_info": {
   "codemirror_mode": {
    "name": "ipython",
    "version": 3
   },
   "file_extension": ".py",
   "mimetype": "text/x-python",
   "name": "python",
   "nbconvert_exporter": "python",
   "pygments_lexer": "ipython3",
   "version": "3.8.5"
  },
  "orig_nbformat": 4
 },
 "nbformat": 4,
 "nbformat_minor": 2
}
