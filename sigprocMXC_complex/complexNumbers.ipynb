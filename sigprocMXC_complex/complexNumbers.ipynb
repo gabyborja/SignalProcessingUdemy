{
 "metadata": {
  "language_info": {
   "codemirror_mode": {
    "name": "ipython",
    "version": 3
   },
   "file_extension": ".py",
   "mimetype": "text/x-python",
   "name": "python",
   "nbconvert_exporter": "python",
   "pygments_lexer": "ipython3",
   "version": "3.8.5"
  },
  "orig_nbformat": 2,
  "kernelspec": {
   "name": "python385jvsc74a57bd00e936c82c9a9a6e66225a00f71cdc5c3d4e138d3d1237456bcb6d76ffa49910a",
   "display_name": "Python 3.8.5 64-bit ('base': conda)"
  }
 },
 "nbformat": 4,
 "nbformat_minor": 2,
 "cells": [
  {
   "cell_type": "code",
   "execution_count": 6,
   "metadata": {},
   "outputs": [],
   "source": [
    "import numpy as np\n",
    "import cmath\n",
    "import math\n",
    "import matplotlib.pyplot as plt"
   ]
  },
  {
   "source": [
    "---\n",
    "# VIDEO: From the number line to the complex number plane\n",
    "---"
   ],
   "cell_type": "markdown",
   "metadata": {}
  },
  {
   "cell_type": "code",
   "execution_count": 7,
   "metadata": {},
   "outputs": [
    {
     "output_type": "stream",
     "name": "stdout",
     "text": [
      "Real part is 4.0 and imaginary part is 3.0.\n"
     ]
    }
   ],
   "source": [
    "## the imagingary operator \n",
    "\n",
    "# Python differs from MATLAB here:\n",
    "1j\n",
    "cmath.sqrt(-1) # note the cmath module\n",
    "\n",
    "## creating complex numbers\n",
    "z = 4 + 3j\n",
    "z = 4 + 3*1j\n",
    "z = 4 + 3*cmath.sqrt(-1)\n",
    "z = complex(4,3)\n",
    "\n",
    "print('Real part is ' + str(np.real(z)) + ' and imaginary part is ' + str(np.imag(z)) + '.')"
   ]
  },
  {
   "source": [
    "## plotting a complex number \n",
    "\n",
    "plt.plot( np.real(z), np.imag(z), 'rs')\n",
    "plt.xlim([-5, 5])\n",
    "plt.ylim([-5, 5])\n",
    "plt.plot([-5, 5], [0,0], 'k')\n",
    "plt.plot( [0,0], [-5, 5], 'k')\n",
    "plt.xlabel('real axis')\n",
    "plt.ylabel('imag axis')\n",
    "plt.show()"
   ],
   "cell_type": "code",
   "metadata": {},
   "execution_count": null,
   "outputs": []
  },
  {
   "source": [
    "---\n",
    "# VIDEO: Addition and subtraction with complex numbers\n",
    "---"
   ],
   "cell_type": "markdown",
   "metadata": {}
  },
  {
   "cell_type": "code",
   "execution_count": 10,
   "metadata": {},
   "outputs": [
    {
     "output_type": "stream",
     "name": "stdout",
     "text": [
      "(7+7j)\n(7+7j)\n(1+3j)\n(1+3j)\n"
     ]
    }
   ],
   "source": [
    "# create two complex numbers\n",
    "a = complex(4, 5)\n",
    "b = 3+2j\n",
    "\n",
    "# let Python do the hard work\n",
    "z1 = a+b\n",
    "print(z1)\n",
    "\n",
    "# the \"manual\" way\n",
    "z2 = complex( np.real(a)+np.real(b), np.imag(a)+np.imag(b) )\n",
    "print(z2)\n",
    "\n",
    "## subtraction is the same as addition...complex\n",
    "# let MATLAB do the hard work\n",
    "z3 = a-b\n",
    "print(z3)\n",
    "\n",
    "# the \"manual\" way\n",
    "z4 = complex( np.real(a)-np.real(b) , np.imag(a)-np.imag(b) )\n",
    "print(z4)\n"
   ]
  },
  {
   "source": [
    "---\n",
    "# Multiplication with complex numbers \n",
    "---"
   ],
   "cell_type": "markdown",
   "metadata": {}
  },
  {
   "cell_type": "code",
   "execution_count": 11,
   "metadata": {},
   "outputs": [
    {
     "output_type": "stream",
     "name": "stdout",
     "text": [
      "(2+23j)\n(12+10j) -- the WRONG way!\n(2+23j)\n(2+23j)\n"
     ]
    }
   ],
   "source": [
    "\n",
    "# create two complex numbers\n",
    "a = complex(4,5)\n",
    "b = 3+2j\n",
    "\n",
    "# let MATLAB do the hard work\n",
    "z1 = a*b\n",
    "print(z1)\n",
    "\n",
    "# the intuitive-but-WRONG way\n",
    "z2 = complex( np.real(a)*np.real(b) , np.imag(a)*np.imag(b) )\n",
    "print(str(z2)+' -- the WRONG way!')\n",
    "\n",
    "# the less-intuitive-but-CORRECT way\n",
    "ar = np.real(a)\n",
    "ai = np.imag(a)\n",
    "br = np.real(b)\n",
    "bi = np.imag(b)\n",
    "\n",
    "z3 = (ar + 1j*ai) * (br + 1j*bi)\n",
    "z4 = (ar*br) + (ar*(1j*bi)) + ((1j*ai)*br) + ((1j*ai)*(1j*bi))\n",
    "\n",
    "print(z3)\n",
    "print(z4)"
   ]
  },
  {
   "source": [
    "---\n",
    "# VIDEO: The complex conjugate\n",
    "---"
   ],
   "cell_type": "markdown",
   "metadata": {}
  },
  {
   "cell_type": "code",
   "execution_count": 12,
   "metadata": {},
   "outputs": [
    {
     "output_type": "stream",
     "name": "stdout",
     "text": [
      "(4+5j)\n(4+5j)\n(41+0j)=41.0=41.0\n"
     ]
    }
   ],
   "source": [
    "# create a complex number\n",
    "\n",
    "a = complex(4,-5)\n",
    "\n",
    "# let Python do the hard work\n",
    "ac1 = np.conj(a)\n",
    "print(ac1)\n",
    "\n",
    "# the \"manual\" way\n",
    "ac2 = complex( np.real(a) , -np.imag(a) )\n",
    "print(ac2)\n",
    "\n",
    "\n",
    "## magnitude squared of a complex number\n",
    "amag1 = a*np.conj(a) # note that Python keeps this as type==complex, although the imaginary part is zero\n",
    "amag2 = np.real(a)**2 + np.imag(a)**2\n",
    "amag3 = np.abs(a)**2\n",
    "\n",
    "print( str(amag1)+'='+str(amag2)+'='+str(amag3) )"
   ]
  },
  {
   "cell_type": "code",
   "execution_count": null,
   "metadata": {},
   "outputs": [],
   "source": []
  }
 ]
}