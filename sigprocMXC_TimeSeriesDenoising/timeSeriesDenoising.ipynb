{
 "metadata": {
  "language_info": {
   "codemirror_mode": {
    "name": "ipython",
    "version": 3
   },
   "file_extension": ".py",
   "mimetype": "text/x-python",
   "name": "python",
   "nbconvert_exporter": "python",
   "pygments_lexer": "ipython3",
   "version": "3.8.5"
  },
  "orig_nbformat": 2,
  "kernelspec": {
   "name": "python3",
   "display_name": "Python 3",
   "language": "python"
  }
 },
 "nbformat": 4,
 "nbformat_minor": 2,
 "cells": [
  {
   "cell_type": "code",
   "execution_count": null,
   "metadata": {},
   "outputs": [],
   "source": [
    "import numpy as np\n",
    "import matplotlib.pyplot as plt\n",
    "import scipy.io as sio\n",
    "import scipy.signal\n",
    "from scipy import *\n",
    "import copy"
   ]
  },
  {
   "source": [
    "---\n",
    "# VIDEO: Mean-smooth a time series\n",
    "---"
   ],
   "cell_type": "markdown",
   "metadata": {}
  },
  {
   "cell_type": "code",
   "execution_count": null,
   "metadata": {},
   "outputs": [],
   "source": [
    "srate = 1000\n",
    "time = np.arange(0,3,1/srate) # 3 seconds\n",
    "n = len(time)\n",
    "p = 15 # poles for random interpolation\n",
    "\n",
    "# noise level, measured in standard deviations\n",
    "noiseamp = 5\n",
    "\n",
    "# amplitude modulator and noise level\n",
    "ampl = np.interp(np.linspace(0,p,n), np.arange(0,p), np.random.rand(p)*30) # interpolate y = interp(x, xp, fp) where x is the coordinates for interpolation, xp are the poles, fp are the y-coordinates of the xp poles. Will return y which is the same length as x\n",
    "noise = noiseamp * np.random.randn(n)\n",
    "signal = ampl + noise\n",
    "\n",
    "print(np.linspace(0,p,n))\n",
    "print(np.arange(0,p))\n",
    "print(np.random.rand(p))\n",
    "\n",
    "# Plotting for debugging\n",
    "plt.plot(time, ampl)\n",
    "plt.show()\n",
    "plt.plot(time, noise)\n",
    "plt.show()\n",
    "plt.plot(time, signal)\n",
    "plt.show()\n",
    "\n",
    "# initialize filtered signal vector\n",
    "filtsig = np.zeros(n)\n",
    "\n",
    "# implement the running mean filter\n",
    "k = 50 # filter window is actually k*2+1 \n",
    "print(f\"range of filtsig = {range(k, n-k-1)}\")\n",
    "for i in range(k,n-k-1):\n",
    "    # each point is the average of k surrounding points\n",
    "    filtsig[i] = np.mean(signal[i-k:i+k])\n",
    "\n",
    "# compute window size in ms\n",
    "windowsize = 1000 * (k*2+1) / srate\n",
    "\n",
    "# plot the noisy and filtered signals\n",
    "plt.plot(time, signal, label='orig')\n",
    "plt.plot(time, filtsig, label='filtered')\n",
    "\n",
    "plt.legend()\n",
    "plt.xlabel('Time (sec)')\n",
    "plt.ylabel('Amplitude')\n",
    "plt.title('Running-mean filter with a k=%d=ms' %windowsize)\n",
    "\n",
    "plt.show()\n",
    "\n"
   ]
  },
  {
   "cell_type": "code",
   "execution_count": null,
   "metadata": {},
   "outputs": [],
   "source": []
  }
 ]
}