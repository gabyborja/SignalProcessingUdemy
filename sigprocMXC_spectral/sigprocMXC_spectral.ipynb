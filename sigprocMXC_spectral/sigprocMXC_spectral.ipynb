{
 "cells": [
  {
   "cell_type": "code",
   "execution_count": null,
   "metadata": {},
   "outputs": [],
   "source": [
    "import numpy as np\n",
    "import matplotlib.pyplot as plt\n",
    "import scipy.io as sio\n",
    "import scipy.fftpack\n",
    "import scipy.signal\n",
    "import scipy.io.wavfile\n",
    "import copy"
   ]
  },
  {
   "cell_type": "markdown",
   "metadata": {},
   "source": [
    "\n",
    "---\n",
    "VIDEO: Fourier transform for spectral analyses\n",
    "---\n"
   ]
  },
  {
   "cell_type": "code",
   "execution_count": null,
   "metadata": {},
   "outputs": [],
   "source": [
    "## Generate a multispectral noisy signal\n",
    "\n",
    "# simulation parameters\n",
    "srate = 1234 # in Hz\n",
    "npnts = srate*2 # 2 seconds\n",
    "time  = np.arange(0,npnts)/srate\n",
    "\n",
    "# frequencies to include\n",
    "frex  = [ 12,18,30 ]\n",
    "\n",
    "signal = np.zeros(len(time))\n",
    "\n",
    "# loop over frequencies to create signal\n",
    "for fi in range(0,len(frex)):\n",
    "    signal = signal + (fi+1)*np.sin(2*np.pi*frex[fi]*time)\n",
    "\n",
    "# add some noise\n",
    "signal = signal + np.random.randn(len(signal))\n",
    "\n",
    "# amplitude spectrum via Fourier transform\n",
    "signalX = scipy.fftpack.fft(signal)\n",
    "signalAmp = 2*np.abs(signalX)/npnts\n",
    "\n",
    "# vector of frequencies in Hz\n",
    "hz = np.linspace(0,srate/2,int(np.floor(npnts/2)+1))\n"
   ]
  },
  {
   "cell_type": "code",
   "execution_count": null,
   "metadata": {},
   "outputs": [],
   "source": [
    "## plots\n",
    "\n",
    "plt.plot(time,signal,label='Original')\n",
    "plt.plot(time,np.real(scipy.fftpack.ifft(signalX)),'ro',label='IFFT reconstructed')\n",
    "\n",
    "plt.xlabel('Time (s)')\n",
    "plt.ylabel('Amplitude')\n",
    "plt.title('Time domain')\n",
    "plt.legend()\n",
    "plt.show()\n",
    "\n",
    "plt.stem(hz,signalAmp[0:len(hz)],'k')\n",
    "plt.xlim([0,np.max(frex)*3])\n",
    "plt.xlabel('Frequency (Hz)')\n",
    "plt.ylabel('Amplitude')\n",
    "plt.title('Frequency domain')\n",
    "plt.show()"
   ]
  },
  {
   "cell_type": "code",
   "execution_count": null,
   "metadata": {},
   "outputs": [],
   "source": [
    "## example with real data\n",
    "\n",
    "# data downloaded from https://trends.google.com/trends/explore?date=today%205-y&geo=US&q=signal%20processing\n",
    "searchdata = [69,77,87,86,87,71,70,92,83,73,76,78,56,75,68,60,30,44,58,69,82,76,73,60,71,86,72,55,56,65,73,71,71,71,62,65,57,54,54,60,49,59,58,46,50,62,60,65,67,60,70,89,78,94,86,80,81,73,100,95,78,75,64,80,53,81,73,66,26,44,70,85,81,91,85,79,77,80,68,67,51,78,85,76,72,87,65,59,60,64,56,52,71,77,53,53,49,57,61,42,58,65,67,93,88,83,89,60,79,72,79,69,78,85,72,85,51,73,73,52,41,27,44,68,77,71,49,63,72,73,60,68,63,55,50,56,58,74,51,62,52,47,46,38,45,48,44,46,46,51,38,44,39,47,42,55,52,68,56,59,69,61,51,61,65,61,47,59,47,55,57,48,43,35,41,55,50,76,56,60,59,62,56,58,60,58,61,69,65,52,55,64,42,42,54,46,47,52,54,44,31,51,46,42,40,51,60,53,64,58,63,52,53,51,56,65,65,61,61,62,44,51,54,51,42,34,42,33,55,67,57,62,55,52,48,50,48,49,52,53,54,55,48,51,57,46,45,41,55,44,34,40,38,41,31,41,41,40,53,35,31]\n",
    "N = len(searchdata)\n",
    "\n",
    "# possible normalizations...\n",
    "searchdata = searchdata - np.mean(searchdata)\n",
    "\n",
    "# power\n",
    "searchpow = np.abs( scipy.fftpack.fft( searchdata )/N )**2\n",
    "hz = np.linspace(0,52,N)\n",
    "\n",
    "plt.plot(searchdata,'ko-')\n",
    "plt.xlabel('Time (weeks)')\n",
    "plt.ylabel('Search volume')\n",
    "plt.show()\n",
    "\n",
    "plt.plot(hz,searchpow,'ms-')\n",
    "plt.xlabel('Frequency (norm.)')\n",
    "plt.ylabel('Search power')\n",
    "plt.xlim([0,12])\n",
    "plt.show()"
   ]
  },
  {
   "cell_type": "markdown",
   "metadata": {},
   "source": [
    "\n",
    "---\n",
    "# VIDEO: Welch's method\n",
    "---\n"
   ]
  },
  {
   "cell_type": "code",
   "execution_count": null,
   "metadata": {},
   "outputs": [],
   "source": [
    "# load data and extract\n",
    "matdat  = sio.loadmat('EEGrestingState.mat')\n",
    "eegdata = matdat['eegdata'][0]\n",
    "srate   = matdat['srate'][0]\n",
    "\n",
    "# time vector\n",
    "N = len(eegdata)\n",
    "timevec = np.arange(0,N)/srate\n",
    "\n",
    "# plot the data\n",
    "plt.plot(timevec,eegdata,'k')\n",
    "plt.xlabel('Time (seconds)')\n",
    "plt.ylabel('Voltage (\\muV)')\n",
    "plt.show()"
   ]
  },
  {
   "cell_type": "code",
   "execution_count": null,
   "metadata": {},
   "outputs": [],
   "source": [
    "## one big FFT (not Welch's method)\n",
    "\n",
    "# \"static\" FFT over entire period, for comparison with Welch\n",
    "eegpow = np.abs( scipy.fftpack.fft(eegdata)/N )**2\n",
    "hz = np.linspace(0,srate/2,int(np.floor(N/2)+1))\n"
   ]
  },
  {
   "cell_type": "code",
   "execution_count": null,
   "metadata": {},
   "outputs": [],
   "source": [
    "## \"manual\" Welch's method\n",
    "\n",
    "# window length in seconds*srate\n",
    "winlength = int( 1*srate )\n",
    "\n",
    "# number of points of overlap\n",
    "nOverlap = np.round(srate/2)\n",
    "\n",
    "# window onset times\n",
    "winonsets = np.arange(0,int(N-winlength),int(winlength-nOverlap))\n",
    "\n",
    "# note: different-length signal needs a different-length Hz vector\n",
    "hzW = np.linspace(0,srate/2,int(floor(winlength/2)+1))\n",
    "\n",
    "# Hann window\n",
    "hannw = .5 - np.cos(2*np.pi*np.linspace(0,1,int(winlength)))/2\n",
    "\n",
    "# initialize the power matrix (windows x frequencies)\n",
    "eegpowW = np.zeros(len(hzW))\n",
    "\n",
    "# loop over frequencies\n",
    "for wi in range(0,len(winonsets)):\n",
    "    \n",
    "    # get a chunk of data from this time window\n",
    "    datachunk = eegdata[ winonsets[wi]:winonsets[wi]+winlength ]\n",
    "    \n",
    "    # apply Hann taper to data\n",
    "    datachunk = datachunk * hannw\n",
    "    \n",
    "    # compute its power\n",
    "    tmppow = np.abs(scipy.fftpack.fft(datachunk)/winlength)**2\n",
    "    \n",
    "    # enter into matrix\n",
    "    eegpowW = eegpowW  + tmppow[0:len(hzW)]\n",
    "\n",
    "# divide by N\n",
    "eegpowW = eegpowW / len(winonsets)\n",
    "\n",
    "\n",
    "# plotting\n",
    "plt.plot(hz,eegpow[0:len(hz)],'k',label='Static FFT')\n",
    "plt.plot(hzW,eegpowW/10,'r',label='Welch''s method')\n",
    "plt.xlim([0,40])\n",
    "plt.xlabel('Frequency (Hz)')\n",
    "plt.legend()\n",
    "plt.show()"
   ]
  },
  {
   "cell_type": "code",
   "execution_count": null,
   "metadata": {},
   "outputs": [],
   "source": [
    "## Python's welch\n",
    "\n",
    "# create Hann window\n",
    "winsize = int( 2*srate ) # 2-second window\n",
    "hannw = .5 - np.cos(2*pi*linspace(0,1,winsize))/2\n",
    "\n",
    "# number of FFT points (frequency resolution)\n",
    "nfft = srate*100\n",
    "\n",
    "f, welchpow = scipy.signal.welch(eegdata,fs=srate,window=hannw,nperseg=winsize,noverlap=winsize/4,nfft=nfft)\n",
    "\n",
    "plt.semilogy(f,welchpow)\n",
    "plt.xlim([0,40])\n",
    "plt.xlabel('frequency [Hz]')\n",
    "plt.ylabel('Power')\n",
    "plt.show()"
   ]
  },
  {
   "cell_type": "markdown",
   "metadata": {},
   "source": [
    "\n",
    "---\n",
    "# VIDEO: Spectrogram of birdsong\n",
    "---\n"
   ]
  },
  {
   "cell_type": "code",
   "execution_count": null,
   "metadata": {},
   "outputs": [],
   "source": [
    "## load in birdcall (source: https://www.xeno-canto.org/403881)\n",
    "\n",
    "fs,bc = scipy.io.wavfile.read('XC403881.wav')\n",
    "\n",
    "\n",
    "# create a time vector based on the data sampling rate\n",
    "n = len(bc)\n",
    "timevec = np.arange(0,n)/fs\n",
    "\n",
    "# plot the data from the two channels\n",
    "plt.plot(timevec,bc)\n",
    "plt.xlabel('Time (sec.)')\n",
    "plt.title('Time domain')\n",
    "plt.show()\n",
    "\n",
    "# compute the power spectrum\n",
    "hz = np.linspace(0,fs/2,int(floor(n/2)+1))\n",
    "bcpow = np.abs(scipy.fftpack.fft( scipy.signal.detrend(bc[:,0]) )/n)**2\n",
    "\n",
    "# now plot it\n",
    "plt.plot(hz,bcpow[0:len(hz)])\n",
    "plt.xlabel('Frequency (Hz)')\n",
    "plt.title('Frequency domain')\n",
    "plt.xlim([0,8000])\n",
    "plt.show()"
   ]
  },
  {
   "cell_type": "code",
   "execution_count": null,
   "metadata": {},
   "outputs": [],
   "source": [
    "## time-frequency analysis via spectrogram\n",
    "\n",
    "frex,time,pwr = scipy.signal.spectrogram(bc[:,0],fs)\n",
    "\n",
    "plt.pcolormesh(time,frex,pwr,vmin=0,vmax=9)\n",
    "plt.xlabel('Time (s)'), plt.ylabel('Frequency (Hz)')\n",
    "plt.show()"
   ]
  }
 ],
 "metadata": {
  "kernelspec": {
   "display_name": "Python 3",
   "language": "python",
   "name": "python3"
  },
  "language_info": {
   "codemirror_mode": {
    "name": "ipython",
    "version": 3
   },
   "file_extension": ".py",
   "mimetype": "text/x-python",
   "name": "python",
   "nbconvert_exporter": "python",
   "pygments_lexer": "ipython3",
   "version": "3.8.5-final"
  }
 },
 "nbformat": 4,
 "nbformat_minor": 2
}