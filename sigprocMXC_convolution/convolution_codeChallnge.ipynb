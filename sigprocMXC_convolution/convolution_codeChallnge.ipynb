{
 "cells": [
  {
   "cell_type": "code",
   "execution_count": null,
   "source": [
    "import numpy as np\n",
    "import matplotlib.pyplot as plt\n",
    "import scipy.io as sio\n",
    "import scipy.signal\n",
    "from scipy import *\n",
    "import copy"
   ],
   "outputs": [],
   "metadata": {}
  },
  {
   "cell_type": "code",
   "execution_count": null,
   "source": [
    "# create signal\n",
    "srate = 1000 # Hz\n",
    "time  = np.arange(0,3,1/srate)\n",
    "n     = len(time)\n",
    "p     = 15 # poles for random interpolation\n",
    "\n",
    "# noise level, measured in standard deviations\n",
    "noiseamp = 5\n",
    "\n",
    "# amplitude modulator and noise level\n",
    "ampl   = np.interp(np.linspace(0,p,n),np.arange(0,p),np.random.rand(p)*30)\n",
    "noise  = noiseamp * np.random.randn(n)\n",
    "signal = ampl + noise\n",
    "\n",
    "# initialize filtered signal vector\n",
    "filtsig = np.zeros(n)\n",
    "\n",
    "# implement the running mean filter\n",
    "k = 20 # filter window is actually k*2+1\n",
    "for i in range(k,n-k-1):\n",
    "    # each point is the average of k surrounding points\n",
    "    filtsig[i] = np.mean(signal[i-k:i+k])\n",
    "\n",
    "# compute window size in ms\n",
    "windowsize = 1000*(k*2+1) / srate\n",
    "\n",
    "\n",
    "# plot the noisy and filtered signals\n",
    "plt.plot(time,signal,label='orig')\n",
    "plt.plot(time,filtsig,label='filtered')\n",
    "\n",
    "plt.legend()\n",
    "plt.xlabel('Time (sec.)')\n",
    "plt.ylabel('Amplitude')\n",
    "plt.title('Running-mean filter with a k=%d-ms filter' %windowsize)\n",
    "\n",
    "plt.show()\n"
   ],
   "outputs": [],
   "metadata": {}
  },
  {
   "cell_type": "markdown",
   "source": [
    "Need to recreate the above mean-smoothing time series by convolution theorem. \n",
    "\n",
    "1. Filter kernel for mean smoothing is just a square wave with 20 points. Take the FFT of this \n",
    "2. Take FFT of signal \n",
    "3. Multiply spectra from 1. and 2. \n",
    "4. Get inverse fourier transform of 3. \n",
    "5. Should have the same result as orange line in plot above"
   ],
   "metadata": {}
  },
  {
   "cell_type": "code",
   "execution_count": null,
   "source": [
    "\n",
    "\n",
    "signal_norm = signal-np.mean(signal)\n",
    "\n",
    "plt.plot(time, signal, label='Original')\n",
    "plt.plot(time, signal_norm, label='Mean centered')\n",
    "plt.xlabel('Time (sec)')\n",
    "plt.ylabel('Amplitude')\n",
    "plt.legend()\n",
    "\n",
    "npnts = len(signal)\n",
    "#hz_vec = np.linspace(0, srate/2, int(np.floor(npnts/2)+1))\n",
    "hz_vec = np.linspace(0, srate, npnts)\n",
    "\n",
    "signal_pwr = np.abs(scipy.fft.fft(signal)/npnts)**2\n",
    "plt.figure()\n",
    "#plt.plot(hz_vec, signal_pwr[:len(hz_vec)], label = 'Original')\n",
    "plt.plot(hz_vec, signal_pwr, label='Original')\n",
    "\n",
    "plt.xlabel('Frequency (Hz)')\n",
    "plt.ylabel('Power')\n",
    "plt.title('Power Spectra of Signal')\n",
    "\n",
    "square_kern = np.ones(41)\n",
    "\n",
    "# Remember to normalize kernel \n",
    "square_kern = 1/len(square_kern)*square_kern\n",
    "\n",
    "plt.figure()\n",
    "print(square_kern)\n",
    "plt.plot(square_kern)\n",
    "\n",
    "square_kern_pwr = np.abs(scipy.fft.fft(square_kern)/len(square_kern))**2\n",
    "hz_kern_vec = np.linspace(0, srate, len(square_kern))\n",
    "\n",
    "plt.figure()\n",
    "plt.plot(hz_kern_vec, square_kern_pwr)"
   ],
   "outputs": [],
   "metadata": {}
  },
  {
   "cell_type": "code",
   "execution_count": null,
   "source": [
    "k = int(np.floor(len(square_kern)/2))\n",
    "nConv = npnts + 2*k+1 -1\n",
    "\n",
    "# FFTs\n",
    "dataX = scipy.fft.fft(signal, nConv)\n",
    "filterX = scipy.fft.fft(square_kern, nConv)\n",
    "\n",
    "# IFFT\n",
    "convres = np.real( scipy.fft.ifft (dataX * filterX))\n",
    "\n",
    "# frequencies vector\n",
    "hz_conv = np.linspace(0,srate,nConv)\n",
    "\n",
    "print(len(time))\n",
    "print(len(convres))\n",
    "\n",
    "# cut off wings\n",
    "convres = convres[k:-k]"
   ],
   "outputs": [],
   "metadata": {}
  },
  {
   "cell_type": "code",
   "execution_count": null,
   "source": [
    "# Plot\n",
    "plt.plot(time, signal, label='Original')\n",
    "plt.plot(time, filtsig, label='Time denoising running mean' )\n",
    "plt.plot(time, convres, label='Freq Convolution')\n",
    "plt.legend()\n",
    "plt.xlim([0, 0.05])\n",
    "\n",
    "# Checking correlation after edge effects from time denoising\n",
    "print(np.corrcoef(filtsig[23:-23], convres[23:-23]))\n",
    "\n"
   ],
   "outputs": [],
   "metadata": {}
  },
  {
   "cell_type": "markdown",
   "source": [],
   "metadata": {}
  },
  {
   "cell_type": "code",
   "execution_count": null,
   "source": [],
   "outputs": [],
   "metadata": {}
  }
 ],
 "metadata": {
  "orig_nbformat": 4,
  "language_info": {
   "name": "python",
   "version": "3.8.5",
   "mimetype": "text/x-python",
   "codemirror_mode": {
    "name": "ipython",
    "version": 3
   },
   "pygments_lexer": "ipython3",
   "nbconvert_exporter": "python",
   "file_extension": ".py"
  },
  "kernelspec": {
   "name": "python3",
   "display_name": "Python 3.8.5 64-bit ('base': conda)"
  },
  "interpreter": {
   "hash": "0e936c82c9a9a6e66225a00f71cdc5c3d4e138d3d1237456bcb6d76ffa49910a"
  }
 },
 "nbformat": 4,
 "nbformat_minor": 2
}