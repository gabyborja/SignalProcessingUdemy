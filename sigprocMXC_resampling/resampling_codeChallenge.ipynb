{
 "cells": [
  {
   "cell_type": "code",
   "execution_count": null,
   "metadata": {},
   "outputs": [],
   "source": [
    "import numpy as np\n",
    "import matplotlib.pyplot as plt\n",
    "\n",
    "import scipy \n",
    "import scipy.io as sio\n",
    "from  scipy import signal \n",
    "from scipy.interpolate import griddata"
   ]
  },
  {
   "cell_type": "code",
   "execution_count": null,
   "metadata": {},
   "outputs": [],
   "source": [
    "resample_challenge = sio.loadmat('resample_codeChallenge.mat')\n",
    "resample_challenge\n",
    "\n",
    "origS = np.squeeze(resample_challenge['origS'])\n",
    "origT = np.squeeze(resample_challenge['origT'])\n",
    "signal = np.squeeze(resample_challenge['signal'])\n",
    "time = np.squeeze(resample_challenge['time'])\n",
    "\n",
    "print(origS.shape)\n",
    "print(origT.shape)\n",
    "print(signal.shape)\n",
    "print(time.shape)"
   ]
  },
  {
   "cell_type": "code",
   "execution_count": null,
   "metadata": {},
   "outputs": [],
   "source": [
    "plt.plot(time, signal, 'ks-', label='signal')\n",
    "plt.plot(origT, origS, 'r', label='original')\n",
    "plt.legend()\n",
    "#plt.ylim([0, 30])\n",
    "#plt.xlim([0, 0.1])\n",
    "\n",
    "plt.show()\n",
    "\n",
    "# Need to go from signal to original in red\n",
    "# Get rid of NaNs in signal\n",
    "# Spectral interpolation to address noise burts\n",
    "# Upsample to get to regularly spaced data\n"
   ]
  },
  {
   "cell_type": "code",
   "execution_count": null,
   "metadata": {},
   "outputs": [],
   "source": [
    "plt.plot(np.diff(time))\n",
    "plt.show()\n",
    "\n",
    "plt.plot(np.diff(origT))\n",
    "plt.show()\n"
   ]
  },
  {
   "cell_type": "code",
   "execution_count": null,
   "metadata": {},
   "outputs": [],
   "source": [
    "# Step 1 find NaNs\n",
    "np.isnan(signal)\n",
    "print(sum(np.isnan(signal))) #485\n",
    "print(len(signal)) # 2399\n",
    "print(len(origS)) # 3001\n",
    "\n",
    "foo = len(signal) + sum(np.isnan(signal))\n",
    "print(foo) # 2884\n",
    "\n",
    "# Try replacing NaNs with 0\n",
    "nanIdx = np.isnan(signal)\n",
    "signalClean = signal[~nanIdx]\n",
    "timeClean = time[~nanIdx]\n",
    "plt.plot(timeClean, signalClean, label='nan Removed')\n",
    "plt.legend()\n",
    "plt.show\n",
    "\n"
   ]
  },
  {
   "cell_type": "code",
   "execution_count": null,
   "metadata": {},
   "outputs": [],
   "source": [
    "# Interpolate using original time vector so that it is regularly spaced\n",
    "newsignal = griddata(timeClean, signalClean, origT, method='linear')\n",
    "plt.plot(origT, origS, label='original')\n",
    "plt.plot(origT, newsignal, label='regularly sampled')\n",
    "\n",
    "plt.legend()\n",
    "plt.show()\n",
    "\n",
    "plt.plot(origT, origS, label='original')\n",
    "plt.plot(origT, newsignal, label='regularly sampled')\n",
    "\n",
    "plt.legend()\n",
    "plt.xlim([0.15, 0.5])\n",
    "plt.ylim([0,25])\n",
    "plt.show()\n"
   ]
  },
  {
   "cell_type": "code",
   "execution_count": null,
   "metadata": {},
   "outputs": [],
   "source": [
    "# Identify where noise bursts are and spectrally interpolate between those positions\n",
    "\n",
    "# Idea take fft to identify noise bursts and filter those out\n",
    "\n",
    "# make hz \n",
    "# FFT\n",
    "# low-pass filter\n",
    "\n",
    "dt = np.mean(np.diff(origT))\n",
    "fs = 1/dt\n",
    "print(fs) #1000 Hz\n",
    "npnts = len(newsignal)\n",
    "print(npnts) #3001\n",
    "\n",
    "hz_vec = np.linspace(0, fs, npnts)\n",
    "newsignalX = np.abs(scipy.fft.fft(scipy.signal.detrend(newsignal))/npnts)**2\n",
    "\n",
    "plt.plot(hz_vec, newsignalX, label='two-sided fft')\n",
    "\n",
    "hz_vec = np.linspace(0, fs/2, np.int(np.floor((npnts/2)+1)))\n",
    "plt.plot(hz_vec, newsignalX[0:len(hz_vec)], label='only positive fft')\n",
    "len(hz_vec)\n",
    "plt.legend()\n",
    "plt.xlim([0, 50])\n",
    "plt.show()\n",
    "\n",
    "# Low-pass filter the data\n",
    "lp_cutoff = 12.5\n",
    "lp_transw = 2\n",
    "lp_bands = [0, lp_cutoff, lp_cutoff+lp_transw, fs/2]\n",
    "lp_shape = [1, 1, 0, 0]\n",
    "lp_order = int(np.round(10*fs/lp_cutoff)+1)\n",
    "\n",
    "hz_lpfilt = np.linspace(0, fs, lp_order)\n",
    "print(lp_order)\n",
    "\n",
    "lp_filter = scipy.signal.firls(lp_order, bands=lp_bands, desired=lp_shape, fs=fs)\n",
    "\n",
    "# Evaluate filter \n",
    "plt.subplot(121)\n",
    "plt.plot(lp_filter)\n",
    "\n",
    "plt.subplot(122)\n",
    "plt.plot(lp_bands,lp_shape,label='ideal')\n",
    "plt.plot(hz_lpfilt, np.abs(scipy.fft.fft(lp_filter))**2, label='actual')\n",
    "plt.xlim([0,20])\n",
    "plt.xlabel('Frequency (Hz)')\n",
    "plt.ylabel('Gain')\n",
    "plt.legend()\n",
    "plt.show()\n",
    "# Apply filter\n",
    "signal_filtered = signal.filtfilt(lp_filter, 1, newsignal)\n",
    "signal_filteredX = np.abs(scipy.fft.fft(scipy.signal.detrend(signal_filtered))/npnts)**2\n",
    "\n",
    "plt.subplot(211)\n",
    "plt.plot(origT, newsignal, label='signal with high frequency noise bursts')\n",
    "plt.plot(origT, signal_filtered, label='low-pass filtered signal')\n",
    "plt.subplot(212)\n",
    "plt.plot(hz_vec, newsignalX[0:len(hz_vec)], label='only positive fft')\n",
    "plt.plot(hz_vec, signal_filteredX[0:len(hz_vec)], label='low-pass filtered frequency response')\n",
    "plt.xlim([0,50])\n",
    "plt.legend()"
   ]
  },
  {
   "cell_type": "code",
   "execution_count": null,
   "metadata": {},
   "outputs": [],
   "source": [
    "plt.plot(origT, newsignal, label='new signal')\n",
    "plt.xlim([0.15, 0.5])\n",
    "plt.ylim([0,25])\n",
    "plt.show()\n",
    "# how to find timepoints of noise burst? \n",
    "# spectrogram? \n",
    "\n",
    "f, t, Sxx = scipy.signal.spectrogram(newsignal, fs = 1000, detrend = 'l', window = 'hann', nperseg=100)\n",
    "\n",
    "plt.subplot(211)\n",
    "plt.pcolormesh(t,f,Sxx)\n",
    "plt.ylim([0,20])\n",
    "\n",
    "\n",
    "plt.subplot(212)\n",
    "plt.plot(origT, newsignal)\n",
    "plt.autoscale(enable=True, axis='x', tight=True)"
   ]
  },
  {
   "cell_type": "code",
   "execution_count": null,
   "metadata": {},
   "outputs": [],
   "source": [
    "len(np.diff(newsignal))\n",
    "len(origT[1:3001])\n",
    "len(origT[0:-1])\n",
    "origT[3000]\n",
    "origT[-1]\n",
    "origT[0]\n",
    "origT[1]\n",
    "origT[3000]\n",
    "origT[-1]\n",
    "print(len(origT[0:3001]))\n",
    "print(len(origT[0:len(origT)]))\n",
    "print(len(origT[0:]))\n",
    "\n",
    "plt.plot(origT[1:], np.diff(newsignal))\n",
    "plt.ylim([0,30])\n",
    "plt.title('diff of upsampled signal')\n",
    "plt.show()\n",
    "\n",
    "plt.plot(np.diff(newsignal) > 15)\n",
    "plt.title(\"Noise Burst indices\")"
   ]
  },
  {
   "cell_type": "code",
   "execution_count": null,
   "metadata": {},
   "outputs": [],
   "source": [
    "scipy.signal.detrend"
   ]
  }
 ],
 "metadata": {
  "interpreter": {
   "hash": "5b94c2a6c852fe5ec0455d98e47d2fb0979f82f48615a231143447b972fed4e7"
  },
  "kernelspec": {
   "display_name": "Python 3.8.5 64-bit ('base': conda)",
   "name": "python3"
  },
  "language_info": {
   "codemirror_mode": {
    "name": "ipython",
    "version": 3
   },
   "file_extension": ".py",
   "mimetype": "text/x-python",
   "name": "python",
   "nbconvert_exporter": "python",
   "pygments_lexer": "ipython3",
   "version": "3.8.5"
  },
  "orig_nbformat": 4
 },
 "nbformat": 4,
 "nbformat_minor": 2
}
