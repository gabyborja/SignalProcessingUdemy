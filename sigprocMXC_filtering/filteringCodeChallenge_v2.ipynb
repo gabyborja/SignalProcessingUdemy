{
 "cells": [
  {
   "cell_type": "code",
   "execution_count": null,
   "source": [
    "import numpy as np\n",
    "import matplotlib.pyplot as plt\n",
    "from scipy import signal\n",
    "import scipy\n",
    "import scipy.io as sio\n",
    "import scipy.io.wavfile"
   ],
   "outputs": [],
   "metadata": {}
  },
  {
   "cell_type": "code",
   "execution_count": null,
   "source": [
    "# Load code challenge file\n",
    "challenge = scipy.io.loadmat('filtering_codeChallenge.mat')\n",
    "\n",
    "challenge # contains sampling rate (fs), original data (x), filtered data (y)"
   ],
   "outputs": [],
   "metadata": {}
  },
  {
   "cell_type": "code",
   "execution_count": null,
   "source": [
    "# Extract variables from MAT file\n",
    "\n",
    "fs = challenge['fs'][0][0] # 1000 Hz\n",
    "\n",
    " # remember to squeeze so that the shape is 1d array (x,) vs. 2d array (x,1). The fft results in wrong values if the input array is not 1d\n",
    "x = np.squeeze(challenge['x'])\n",
    "y = np.squeeze(challenge['y']) \n",
    "\n",
    "print(x.shape)\n",
    "print(y.shape)\n",
    "\n",
    "npnts = len(x)"
   ],
   "outputs": [],
   "metadata": {}
  },
  {
   "cell_type": "code",
   "execution_count": null,
   "source": [
    "# Plot in Time domain\n",
    "\n",
    "time_vec = np.arange(0,npnts)/fs \n",
    "hz_vec = np.linspace(0,fs/2,int(np.floor(npnts/2)+1))\n",
    "x_pwr = np.abs(scipy.fft.fft(x)/npnts)**2\n",
    "y_pwr = np.abs(scipy.fft.fft(y)/npnts)**2\n",
    "\n",
    "# Time Domain\n",
    "plt.subplot(211)\n",
    "plt.plot(time_vec, x, label='original ->  x')\n",
    "plt.plot(time_vec, y, label='filtered -> y')\n",
    "plt.xlabel('Time (s)')\n",
    "plt.ylabel('Amplitude (a.u.)')\n",
    "plt.title('Time Domain')\n",
    "plt.legend()\n",
    "\n",
    "# Frequency Domain\n",
    "plt.subplot(212)\n",
    "plt.plot(hz_vec, x_pwr[:len(hz_vec)], label='x power')\n",
    "plt.plot(hz_vec, y_pwr[:len(hz_vec)], label='y power')\n",
    "plt.xlabel('Frequency (Hz)')\n",
    "plt.ylabel('Power')\n",
    "plt.title('Frequency Domain')\n",
    "plt.xlim([0,40])\n",
    "plt.legend()\n",
    "plt.subplots_adjust(hspace=1)\n",
    "\n",
    "\n"
   ],
   "outputs": [],
   "metadata": {}
  },
  {
   "cell_type": "code",
   "execution_count": null,
   "source": [
    "hp_cutoff = 5\n",
    "order = int(np.round(11*fs/hp_cutoff)+1)\n",
    "print(order)\n",
    "\n",
    "frex = [0, 5, 5.5, fs/2] # frequency bands of interest (transition width)\n",
    "bshape = [0, 0, 1, 1] # Shape for high pass filter\n",
    "\n",
    "# Make high pass filter \n",
    "hp_filter = signal.firls(order, bands=frex,desired=bshape, fs=fs)\n",
    "\n",
    "# Evaluate filter characteristics\n",
    "plt.subplot(121)\n",
    "plt.plot(hp_filter)\n",
    "\n",
    "plt.subplot(122)\n",
    "hz_hpfilt = np.linspace(0,fs,order)\n",
    "plt.plot(frex, bshape, label='ideal')\n",
    "filtpow = np.abs(scipy.fft.fft(hp_filter))**2 # Not dividing by order to get max to be 1\n",
    "plt.plot(hz_hpfilt, filtpow, label='actual')  \n",
    "plt.xlim([2, 7])\n",
    "plt.legend()"
   ],
   "outputs": [],
   "metadata": {}
  },
  {
   "cell_type": "code",
   "execution_count": null,
   "source": [
    "x_hp = signal.filtfilt(hp_filter, 1, x) # apply filter\n",
    "\n",
    "plt.plot(time_vec, x, label='original')\n",
    "plt.plot(time_vec, x_hp, label='high-pass filtered')\n",
    "plt.legend()\n",
    "plt.title('Time Domain')\n",
    "plt.xlabel('Time (s)')\n",
    "plt.ylabel('Amplitude (a.u.)')\n",
    "\n",
    "x_hp_pwr = np.abs(scipy.fft.fft(x_hp)/npnts)**2\n",
    "plt.figure()\n",
    "plt.plot(hz_vec, x_pwr[:len(hz_vec)], label='original')\n",
    "plt.plot(hz_vec, x_hp_pwr[:len(hz_vec)], label='high-pass filtered')\n",
    "plt.xlim([0,40])\n",
    "plt.title('Frequency Domain')\n",
    "plt.xlabel('Frequency (Hz)')\n",
    "plt.ylabel('Power')\n",
    "plt.legend()\n"
   ],
   "outputs": [],
   "metadata": {}
  },
  {
   "cell_type": "code",
   "execution_count": null,
   "source": [
    "# Now low-pass filter the data\n",
    "\n",
    "lp_cutoff = 30 # Hz\n",
    "lp_transw = 5\n",
    "lp_bands = [0, lp_cutoff, lp_cutoff+lp_transw, fs/2]\n",
    "lp_shape = [1, 1, 0, 0]\n",
    "lp_order = int(np.round(10*fs/lp_cutoff)+2)\n",
    "hz_lpfilt = np.linspace(0,fs,lp_order)\n",
    "print(lp_order)\n",
    "\n",
    "lp_filter = signal.firls(lp_order,bands=lp_bands, desired=lp_shape, fs=fs)\n",
    "\n",
    "# Evaluate filter \n",
    "plt.subplot(121)\n",
    "plt.plot(lp_filter)\n",
    "\n",
    "plt.subplot(122)\n",
    "plt.plot(lp_bands, lp_shape, label='ideal')\n",
    "plt.plot(hz_lpfilt, np.abs(scipy.fft.fft(lp_filter))**2, label='actual')\n",
    "plt.xlim([27,40])\n",
    "plt.xlabel('Frequency (Hz)')\n",
    "plt.ylabel('Gain')\n",
    "plt.legend()"
   ],
   "outputs": [],
   "metadata": {}
  },
  {
   "cell_type": "code",
   "execution_count": null,
   "source": [
    "x_hp_lp = signal.filtfilt(lp_filter,1,x_hp) # apply low-pass filter on previously high-pass filtered data\n",
    "x_hp_lp_pwr = np.abs(scipy.fft.fft(x_hp_lp)/npnts)**2\n",
    "\n",
    "\n",
    "plt.plot(time_vec, x, label='original')\n",
    "plt.plot(time_vec, x_hp_lp, label='2-stage filtered')\n",
    "plt.title('Time Domain')\n",
    "plt.xlabel('Time (s)')\n",
    "plt.ylabel('Amplitude')\n",
    "plt.legend()\n",
    "\n",
    "\n",
    "plt.figure()\n",
    "#plt.plot(hz_vec, x_pwr[:len(hz_vec)], label='original')\n",
    "plt.plot(hz_vec, x_hp_lp_pwr[:len(hz_vec)], label='2-stage filtered')\n",
    "plt.plot(hz_vec, y_pwr[:len(hz_vec)], label='Goal')\n",
    "plt.title('Frequency Domain')\n",
    "plt.xlabel('Frequency (Hz)')\n",
    "plt.ylabel('Power')\n",
    "plt.legend()\n",
    "plt.xlim([0, 40])"
   ],
   "outputs": [],
   "metadata": {}
  },
  {
   "cell_type": "code",
   "execution_count": null,
   "source": [
    "# Now notch filter the data\n",
    "\n",
    "frange = [17, 25]\n",
    "notch_order = int(np.round(21*fs/frange[0]))\n",
    "notch_hz_vec = np.linspace(0,fs,notch_order)\n",
    "print(notch_order)\n",
    "\n",
    "notch_filter = signal.firwin(notch_order, cutoff=frange, pass_zero = 'bandstop', fs=fs, window='hanning')\n",
    "# Evaluate notch filter\n",
    "plt.subplot(121)\n",
    "plt.plot(notch_filter)\n",
    "\n",
    "plt.subplot(122)\n",
    "plt.plot(notch_hz_vec, np.abs(scipy.fft.fft(notch_filter))**2, label='actual')\n",
    "plt.plot([0, frange[0], frange[0], frange[1], frange[1], fs/2], [1, 1, 0, 0, 1, 1], label='ideal')\n",
    "plt.xlabel('Frequency (Hz)')\n",
    "plt.ylabel('Gain')\n",
    "plt.xlim([10,30])"
   ],
   "outputs": [],
   "metadata": {}
  },
  {
   "cell_type": "code",
   "execution_count": null,
   "source": [
    "# Now apply the filter\n",
    "x_final = signal.filtfilt(notch_filter, 1, x_hp_lp)\n",
    "\n",
    "# Get Power spectra\n",
    "x_final_pwr = np.abs(scipy.fft.fft(x_final)/npnts)**2\n",
    "\n",
    "plt.plot(time_vec, x_final, label='Filtered')\n",
    "plt.plot(time_vec, y, label='Goal')\n",
    "plt.xlabel('Time (s)')\n",
    "plt.ylabel('Amplitude')\n",
    "plt.title('Time Domain')\n",
    "plt.legend()\n",
    "\n",
    "plt.figure()\n",
    "plt.plot(hz_vec, y_pwr[:len(hz_vec)], label='Goal')\n",
    "plt.plot(hz_vec, x_final_pwr[:len(hz_vec)], label='Filtered')\n",
    "plt.title('Frequency Domain')\n",
    "plt.xlabel('Frequency (Hz)')\n",
    "plt.ylabel('Power')\n",
    "plt.legend()\n",
    "plt.xlim([0, 40])"
   ],
   "outputs": [],
   "metadata": {}
  },
  {
   "cell_type": "code",
   "execution_count": null,
   "source": [
    "np.corrcoef(y_pwr, x_final_pwr)"
   ],
   "outputs": [],
   "metadata": {}
  },
  {
   "cell_type": "code",
   "execution_count": null,
   "source": [],
   "outputs": [],
   "metadata": {}
  }
 ],
 "metadata": {
  "orig_nbformat": 4,
  "language_info": {
   "name": "python",
   "version": "3.8.5",
   "mimetype": "text/x-python",
   "codemirror_mode": {
    "name": "ipython",
    "version": 3
   },
   "pygments_lexer": "ipython3",
   "nbconvert_exporter": "python",
   "file_extension": ".py"
  },
  "kernelspec": {
   "name": "python3",
   "display_name": "Python 3.8.5 64-bit ('base': conda)"
  },
  "interpreter": {
   "hash": "0e936c82c9a9a6e66225a00f71cdc5c3d4e138d3d1237456bcb6d76ffa49910a"
  }
 },
 "nbformat": 4,
 "nbformat_minor": 2
}