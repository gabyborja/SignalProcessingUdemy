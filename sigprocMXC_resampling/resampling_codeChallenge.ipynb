{
 "cells": [
  {
   "cell_type": "code",
   "execution_count": null,
   "metadata": {},
   "outputs": [],
   "source": [
    "import numpy as np\n",
    "import matplotlib.pyplot as plt\n",
    "\n",
    "from  scipy import signal \n",
    "import scipy \n",
    "import scipy.io as sio"
   ]
  },
  {
   "cell_type": "code",
   "execution_count": null,
   "metadata": {},
   "outputs": [],
   "source": [
    "resample_challenge = sio.loadmat('resample_codeChallenge.mat')\n",
    "resample_challenge\n",
    "\n",
    "origS = np.squeeze(resample_challenge['origS'])\n",
    "origT = np.squeeze(resample_challenge['origT'])\n",
    "signal = np.squeeze(resample_challenge['signal'])\n",
    "time = np.squeeze(resample_challenge['time'])\n",
    "\n",
    "print(origS.shape)\n",
    "print(origT.shape)\n",
    "print(signal.shape)\n",
    "print(time.shape)"
   ]
  },
  {
   "cell_type": "code",
   "execution_count": null,
   "metadata": {},
   "outputs": [],
   "source": [
    "plt.plot(time, signal, 'ks-', label='signal')\n",
    "plt.plot(origT, origS, 'r', label='original')\n",
    "plt.legend()\n",
    "#plt.ylim([0, 30])\n",
    "#plt.xlim([0, 0.1])\n",
    "\n",
    "plt.show()\n",
    "\n",
    "# Need to go from signal to original in red\n",
    "# Spectral interpolation to address noise burts\n",
    "# Upsample to get to regularly spaced data\n",
    "# Get rid of NaNs in signal"
   ]
  },
  {
   "cell_type": "code",
   "execution_count": null,
   "metadata": {},
   "outputs": [],
   "source": [
    "plt.plot(np.diff(time))\n",
    "plt.show()\n",
    "\n",
    "plt.plot(np.diff(origT))\n",
    "plt.show()"
   ]
  }
 ],
 "metadata": {
  "interpreter": {
   "hash": "5b94c2a6c852fe5ec0455d98e47d2fb0979f82f48615a231143447b972fed4e7"
  },
  "kernelspec": {
   "display_name": "Python 3.8.5 64-bit ('base': conda)",
   "name": "python3"
  },
  "language_info": {
   "codemirror_mode": {
    "name": "ipython",
    "version": 3
   },
   "file_extension": ".py",
   "mimetype": "text/x-python",
   "name": "python",
   "nbconvert_exporter": "python",
   "pygments_lexer": "ipython3",
   "version": "3.8.5"
  },
  "orig_nbformat": 4
 },
 "nbformat": 4,
 "nbformat_minor": 2
}
